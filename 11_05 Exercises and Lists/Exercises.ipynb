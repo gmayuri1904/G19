{
 "cells": [
  {
   "cell_type": "code",
   "execution_count": null,
   "id": "cb3f1f99",
   "metadata": {},
   "outputs": [],
   "source": [
    "#Print user input as it is\n",
    "a=input(\"Input here\")\n",
    "print(a)"
   ]
  },
  {
   "cell_type": "raw",
   "id": "fb8a6bd8",
   "metadata": {},
   "source": [
    "Take first and last name input from the user, print the following output\n",
    "Hello, first last! Are you enjoying learning python?"
   ]
  },
  {
   "cell_type": "code",
   "execution_count": 6,
   "id": "9f354a2b",
   "metadata": {},
   "outputs": [
    {
     "name": "stdout",
     "output_type": "stream",
     "text": [
      "Enter FirstName: yash\n",
      "Enter LastName: g\n",
      "Hello, yash g! Are you enjoying learning pyhton?\n",
      "Hello, yash g! Are you enjoying learning pyhton?\n",
      "Hello, yash g ! Are you enjoying learnig python?\n"
     ]
    }
   ],
   "source": [
    "first = input (\"Enter FirstName: \")\n",
    "last = input (\"Enter LastName: \")\n",
    "print (f'Hello, {first} {last}! Are you enjoying learning pyhton?')\n",
    "print('Hello, {} {}! Are you enjoying learning pyhton?'.format(first,last))\n",
    "print(\"Hello,\",first,last,'! Are you enjoying learnig python?')"
   ]
  },
  {
   "cell_type": "code",
   "execution_count": null,
   "id": "3bfbf652",
   "metadata": {},
   "outputs": [],
   "source": [
    "#Given two numeric inputs from the user, print the average \n",
    "num1, num2\n",
    "result=(num1+num2)/2\n",
    "print(result)"
   ]
  },
  {
   "cell_type": "code",
   "execution_count": 7,
   "id": "3632b916",
   "metadata": {},
   "outputs": [
    {
     "name": "stdout",
     "output_type": "stream",
     "text": [
      "Num152\n",
      "Num278\n",
      "65.0\n"
     ]
    }
   ],
   "source": [
    "a= int(input(\"Num1\"))\n",
    "b= int(input(\"Num2\"))\n",
    "result = (a+b)/2\n",
    "print(result)"
   ]
  },
  {
   "cell_type": "code",
   "execution_count": null,
   "id": "b0c7efa9",
   "metadata": {},
   "outputs": [],
   "source": [
    "#Given two numeric inputs from the user, print the sum, product and difference\n",
    "n1,n2\n",
    "sum n1+n2\n",
    "prod n1*n2\n",
    "diff n1-n2"
   ]
  },
  {
   "cell_type": "code",
   "execution_count": 8,
   "id": "d93b3858",
   "metadata": {},
   "outputs": [
    {
     "name": "stdout",
     "output_type": "stream",
     "text": [
      "Enter the 1st no.: 65\n",
      "Enter the 2nd no.: 456\n",
      "65 456\n",
      "521\n",
      "29640\n",
      "-391\n"
     ]
    }
   ],
   "source": [
    "a = int(input(\"Enter the 1st no.: \"))\n",
    "b = int(input(\"Enter the 2nd no.: \"))\n",
    "print(a,b)\n",
    "print (a+b)\n",
    "print (a*b)\n",
    "print (a-b)"
   ]
  },
  {
   "cell_type": "code",
   "execution_count": 10,
   "id": "256c03e4",
   "metadata": {},
   "outputs": [
    {
     "name": "stdout",
     "output_type": "stream",
     "text": [
      "num145\n",
      "num2852\n",
      "897\n"
     ]
    }
   ],
   "source": [
    "a=int(input(\"num1\"))\n",
    "b= int(input(\"num2\"))\n",
    "print(a+b)"
   ]
  },
  {
   "cell_type": "code",
   "execution_count": null,
   "id": "b1621832",
   "metadata": {},
   "outputs": [],
   "source": [
    "#Given a user input radius, compute the area of the circle\n",
    "r\n",
    "3.14*r*r"
   ]
  },
  {
   "cell_type": "code",
   "execution_count": 11,
   "id": "cade4c43",
   "metadata": {},
   "outputs": [
    {
     "name": "stdout",
     "output_type": "stream",
     "text": [
      "Enter the radius: 45\n",
      "6358.500000000001\n"
     ]
    }
   ],
   "source": [
    "r = float(input(\"Enter the radius: \"))\n",
    "print(3.14*r*r)"
   ]
  },
  {
   "cell_type": "code",
   "execution_count": null,
   "id": "4b8b1176",
   "metadata": {},
   "outputs": [],
   "source": [
    "#Given user input base and height, calculate area of the traingle\n",
    "0.5*base*height"
   ]
  },
  {
   "cell_type": "code",
   "execution_count": 12,
   "id": "b6aa0331",
   "metadata": {},
   "outputs": [
    {
     "name": "stdout",
     "output_type": "stream",
     "text": [
      "Enter the base of triangle: 986\n",
      "Enter the height of triangle: 564\n",
      "278052.0\n"
     ]
    }
   ],
   "source": [
    "b = float(input(\"Enter the base of triangle: \"))\n",
    "h = float(input(\"Enter the height of triangle: \"))\n",
    "\n",
    "print(0.5*b*h)"
   ]
  },
  {
   "cell_type": "raw",
   "id": "79feaef7",
   "metadata": {},
   "source": [
    "Given user input len and breadth of rectangle, calculate area\n",
    "len, breadth\n",
    "len*bred\n",
    "2*(len+bred)"
   ]
  },
  {
   "cell_type": "code",
   "execution_count": 13,
   "id": "e2db485a",
   "metadata": {},
   "outputs": [
    {
     "name": "stdout",
     "output_type": "stream",
     "text": [
      "Enter lenght85\n",
      "Enter breadth45\n",
      "3825.0\n",
      "260.0\n"
     ]
    }
   ],
   "source": [
    "a= float(input(\"Enter lenght\"))\n",
    "b= float(input(\"Enter breadth\"))\n",
    "print(a*b)\n",
    "perimeter=2*(a+b)\n",
    "print(perimeter)"
   ]
  },
  {
   "cell_type": "code",
   "execution_count": 14,
   "id": "ff41496f",
   "metadata": {},
   "outputs": [
    {
     "name": "stdout",
     "output_type": "stream",
     "text": [
      "length of rectangle: 85\n",
      " breadth of rectangle: 52\n",
      "274.0\n"
     ]
    }
   ],
   "source": [
    "a= float(input(\"length of rectangle: \"))\n",
    "b= float(input(\" breadth of rectangle: \"))\n",
    "print(2*(a+b))"
   ]
  },
  {
   "cell_type": "code",
   "execution_count": null,
   "id": "e4fd7ea3",
   "metadata": {},
   "outputs": [],
   "source": [
    "input\n",
    "swapcase\n",
    "print"
   ]
  },
  {
   "cell_type": "raw",
   "id": "dbcbb15f",
   "metadata": {},
   "source": [
    "a=123\n",
    "a=234\n",
    "type(a)\n",
    "b=25.262\n",
    "type(b)\n",
    "c='hello'\n",
    "type(c)\n",
    "d=[1,2,4]\n",
    "type(d)\n",
    "e='23'\n",
    "type(e)\n",
    "f=int(e)\n",
    "type(f)\n",
    "m=int(input())\n",
    "n=input()\n",
    "p=int(n)\n"
   ]
  },
  {
   "cell_type": "code",
   "execution_count": 22,
   "id": "d921dbfc",
   "metadata": {},
   "outputs": [
    {
     "name": "stdout",
     "output_type": "stream",
     "text": [
      "InputDigiTAL NaLaNDa\n",
      "dIGItal nAlAndA\n"
     ]
    }
   ],
   "source": [
    "a=input('Input')\n",
    "print(a.swapcase())"
   ]
  },
  {
   "cell_type": "code",
   "execution_count": 24,
   "id": "77a4bb12",
   "metadata": {},
   "outputs": [
    {
     "data": {
      "text/plain": [
       "['Machine', 'Learning', 'and', 'Data', 'Science']"
      ]
     },
     "execution_count": 24,
     "metadata": {},
     "output_type": "execute_result"
    }
   ],
   "source": [
    "#string\n",
    "a='Machine Learning and Data Science'\n",
    "a.split(' ')"
   ]
  },
  {
   "cell_type": "code",
   "execution_count": 25,
   "id": "2ec11fde",
   "metadata": {},
   "outputs": [
    {
     "name": "stdout",
     "output_type": "stream",
     "text": [
      "InputDigital Nalanda is an amazing platform\n",
      "['Digital', 'Nalanda', 'is', 'an', 'amazing', 'platform']\n"
     ]
    }
   ],
   "source": [
    "a=input('Input')\n",
    "b=a.split()\n",
    "print(b)"
   ]
  },
  {
   "cell_type": "code",
   "execution_count": null,
   "id": "b9f1e9b2",
   "metadata": {},
   "outputs": [],
   "source": []
  }
 ],
 "metadata": {
  "kernelspec": {
   "display_name": "Python 3 (ipykernel)",
   "language": "python",
   "name": "python3"
  },
  "language_info": {
   "codemirror_mode": {
    "name": "ipython",
    "version": 3
   },
   "file_extension": ".py",
   "mimetype": "text/x-python",
   "name": "python",
   "nbconvert_exporter": "python",
   "pygments_lexer": "ipython3",
   "version": "3.9.12"
  }
 },
 "nbformat": 4,
 "nbformat_minor": 5
}
