{
 "cells": [
  {
   "cell_type": "code",
   "execution_count": null,
   "id": "7039a7ec",
   "metadata": {},
   "outputs": [],
   "source": [
    "collection of items\n",
    "hetergenous datatypes\n",
    "ordered\n",
    "duplicates allowed"
   ]
  },
  {
   "cell_type": "code",
   "execution_count": 1,
   "id": "5985e2d7",
   "metadata": {},
   "outputs": [],
   "source": [
    "list1=['c','cpp','java','python','python','java']"
   ]
  },
  {
   "cell_type": "code",
   "execution_count": 2,
   "id": "0039f238",
   "metadata": {},
   "outputs": [
    {
     "data": {
      "text/plain": [
       "['c', 'cpp', 'java', 'python', 'python', 'java']"
      ]
     },
     "execution_count": 2,
     "metadata": {},
     "output_type": "execute_result"
    }
   ],
   "source": [
    "list1"
   ]
  },
  {
   "cell_type": "markdown",
   "id": "e0170b12",
   "metadata": {},
   "source": [
    "## Create"
   ]
  },
  {
   "cell_type": "code",
   "execution_count": 3,
   "id": "c0bd5fbd",
   "metadata": {},
   "outputs": [],
   "source": [
    "#List initialization\n",
    "list2=[]"
   ]
  },
  {
   "cell_type": "code",
   "execution_count": 4,
   "id": "9e515e09",
   "metadata": {},
   "outputs": [
    {
     "data": {
      "text/plain": [
       "list"
      ]
     },
     "execution_count": 4,
     "metadata": {},
     "output_type": "execute_result"
    }
   ],
   "source": [
    "type(list2)"
   ]
  },
  {
   "cell_type": "code",
   "execution_count": 7,
   "id": "b639ff4e",
   "metadata": {},
   "outputs": [
    {
     "name": "stdout",
     "output_type": "stream",
     "text": [
      "[12, 34, 56, 657, 8]\n"
     ]
    }
   ],
   "source": [
    "#list constructor\n",
    "tup1=(12,34,56,657,8)\n",
    "list3=list(tup1)\n",
    "type(list3)\n",
    "print(list3)"
   ]
  },
  {
   "cell_type": "code",
   "execution_count": 10,
   "id": "acc7258e",
   "metadata": {},
   "outputs": [
    {
     "data": {
      "text/plain": [
       "[1, 2, 3, 4, 5, 6, 7, 8, 9, 10]"
      ]
     },
     "execution_count": 10,
     "metadata": {},
     "output_type": "execute_result"
    }
   ],
   "source": [
    "list5=list(range(1,11))"
   ]
  },
  {
   "cell_type": "code",
   "execution_count": 12,
   "id": "2b9083b9",
   "metadata": {},
   "outputs": [
    {
     "data": {
      "text/plain": [
       "['Machine', 'Learning', 'and', 'Data', 'Science']"
      ]
     },
     "execution_count": 12,
     "metadata": {},
     "output_type": "execute_result"
    }
   ],
   "source": [
    "str1=\"Machine Learning and Data Science\"\n",
    "list6=str1.split()\n",
    "list6"
   ]
  },
  {
   "cell_type": "markdown",
   "id": "15acac03",
   "metadata": {},
   "source": [
    "## Add items"
   ]
  },
  {
   "cell_type": "markdown",
   "id": "3a4ca92d",
   "metadata": {},
   "source": [
    "### append"
   ]
  },
  {
   "cell_type": "code",
   "execution_count": null,
   "id": "97baa0b6",
   "metadata": {},
   "outputs": [],
   "source": [
    "insert only one item"
   ]
  },
  {
   "cell_type": "code",
   "execution_count": 13,
   "id": "b4a68b2e",
   "metadata": {},
   "outputs": [],
   "source": [
    "list1=[100,200,300,400,500]"
   ]
  },
  {
   "cell_type": "code",
   "execution_count": 14,
   "id": "78faa651",
   "metadata": {},
   "outputs": [],
   "source": [
    "list1.append(600)"
   ]
  },
  {
   "cell_type": "code",
   "execution_count": 15,
   "id": "5ba8f7ec",
   "metadata": {},
   "outputs": [
    {
     "data": {
      "text/plain": [
       "[100, 200, 300, 400, 500, 600]"
      ]
     },
     "execution_count": 15,
     "metadata": {},
     "output_type": "execute_result"
    }
   ],
   "source": [
    "list1"
   ]
  },
  {
   "cell_type": "code",
   "execution_count": 16,
   "id": "a6446d35",
   "metadata": {},
   "outputs": [],
   "source": [
    "list1.append(700)"
   ]
  },
  {
   "cell_type": "code",
   "execution_count": 17,
   "id": "4edf7372",
   "metadata": {},
   "outputs": [
    {
     "data": {
      "text/plain": [
       "[100, 200, 300, 400, 500, 600, 700]"
      ]
     },
     "execution_count": 17,
     "metadata": {},
     "output_type": "execute_result"
    }
   ],
   "source": [
    "list1"
   ]
  },
  {
   "cell_type": "code",
   "execution_count": 26,
   "id": "745950ce",
   "metadata": {},
   "outputs": [],
   "source": [
    "list1.append(800)"
   ]
  },
  {
   "cell_type": "code",
   "execution_count": 27,
   "id": "3d3f9a5c",
   "metadata": {},
   "outputs": [
    {
     "data": {
      "text/plain": [
       "[100,\n",
       " 200,\n",
       " 300,\n",
       " 400,\n",
       " 500,\n",
       " 600,\n",
       " 700,\n",
       " 800,\n",
       " 12,\n",
       " 34,\n",
       " 56,\n",
       " 657,\n",
       " 8,\n",
       " 1000,\n",
       " 2000,\n",
       " 3000,\n",
       " 800]"
      ]
     },
     "execution_count": 27,
     "metadata": {},
     "output_type": "execute_result"
    }
   ],
   "source": [
    "list1"
   ]
  },
  {
   "cell_type": "markdown",
   "id": "f9470931",
   "metadata": {},
   "source": [
    "### extend"
   ]
  },
  {
   "cell_type": "code",
   "execution_count": 34,
   "id": "3faee561",
   "metadata": {},
   "outputs": [],
   "source": [
    "list01=[100,200,300,400,500,600]"
   ]
  },
  {
   "cell_type": "code",
   "execution_count": 35,
   "id": "a06d048f",
   "metadata": {},
   "outputs": [],
   "source": [
    "list02=[1000,2000,3000]"
   ]
  },
  {
   "cell_type": "code",
   "execution_count": 36,
   "id": "40d9e1f1",
   "metadata": {},
   "outputs": [],
   "source": [
    "list01.extend(list02)"
   ]
  },
  {
   "cell_type": "code",
   "execution_count": 37,
   "id": "ea0fe858",
   "metadata": {},
   "outputs": [
    {
     "data": {
      "text/plain": [
       "[100, 200, 300, 400, 500, 600, 1000, 2000, 3000]"
      ]
     },
     "execution_count": 37,
     "metadata": {},
     "output_type": "execute_result"
    }
   ],
   "source": [
    "list01"
   ]
  },
  {
   "cell_type": "code",
   "execution_count": 38,
   "id": "1a5c9ced",
   "metadata": {},
   "outputs": [],
   "source": [
    "list01.append(list02)"
   ]
  },
  {
   "cell_type": "code",
   "execution_count": 39,
   "id": "2197d950",
   "metadata": {},
   "outputs": [
    {
     "data": {
      "text/plain": [
       "[100, 200, 300, 400, 500, 600, 1000, 2000, 3000, [1000, 2000, 3000]]"
      ]
     },
     "execution_count": 39,
     "metadata": {},
     "output_type": "execute_result"
    }
   ],
   "source": [
    "list01"
   ]
  },
  {
   "cell_type": "markdown",
   "id": "04af6673",
   "metadata": {},
   "source": [
    "### insert"
   ]
  },
  {
   "cell_type": "code",
   "execution_count": 42,
   "id": "62b1d897",
   "metadata": {},
   "outputs": [
    {
     "data": {
      "text/plain": [
       "[100, 200, 300, 400, 500, 600]"
      ]
     },
     "execution_count": 42,
     "metadata": {},
     "output_type": "execute_result"
    }
   ],
   "source": [
    "list01=[100,200,300,400,500,600]\n",
    "list01"
   ]
  },
  {
   "cell_type": "code",
   "execution_count": 44,
   "id": "b4fae918",
   "metadata": {},
   "outputs": [],
   "source": [
    "list01.insert(2,900)"
   ]
  },
  {
   "cell_type": "code",
   "execution_count": 45,
   "id": "d1737e7a",
   "metadata": {},
   "outputs": [
    {
     "data": {
      "text/plain": [
       "[100, 200, 900, 300, 400, 500, 600]"
      ]
     },
     "execution_count": 45,
     "metadata": {},
     "output_type": "execute_result"
    }
   ],
   "source": [
    "list01"
   ]
  },
  {
   "cell_type": "code",
   "execution_count": 46,
   "id": "4f5624a1",
   "metadata": {},
   "outputs": [],
   "source": [
    "list01.insert(-2,900)"
   ]
  },
  {
   "cell_type": "code",
   "execution_count": 47,
   "id": "5c4ebc92",
   "metadata": {},
   "outputs": [
    {
     "data": {
      "text/plain": [
       "[100, 200, 900, 300, 400, 900, 500, 600]"
      ]
     },
     "execution_count": 47,
     "metadata": {},
     "output_type": "execute_result"
    }
   ],
   "source": [
    "list01"
   ]
  },
  {
   "cell_type": "code",
   "execution_count": 48,
   "id": "3af5e75f",
   "metadata": {},
   "outputs": [
    {
     "data": {
      "text/plain": [
       "8"
      ]
     },
     "execution_count": 48,
     "metadata": {},
     "output_type": "execute_result"
    }
   ],
   "source": [
    "len(list01)"
   ]
  },
  {
   "cell_type": "code",
   "execution_count": 49,
   "id": "44f4527a",
   "metadata": {},
   "outputs": [],
   "source": [
    "list01.insert(10,900)"
   ]
  },
  {
   "cell_type": "code",
   "execution_count": 50,
   "id": "594ac22f",
   "metadata": {},
   "outputs": [
    {
     "data": {
      "text/plain": [
       "[100, 200, 900, 300, 400, 900, 500, 600, 900]"
      ]
     },
     "execution_count": 50,
     "metadata": {},
     "output_type": "execute_result"
    }
   ],
   "source": [
    "list01"
   ]
  },
  {
   "cell_type": "markdown",
   "id": "ce21d906",
   "metadata": {},
   "source": [
    "### Update"
   ]
  },
  {
   "cell_type": "code",
   "execution_count": 51,
   "id": "67dc0b98",
   "metadata": {},
   "outputs": [
    {
     "data": {
      "text/plain": [
       "[100, 200, 900, 300, 400, 900, 500, 600, 900]"
      ]
     },
     "execution_count": 51,
     "metadata": {},
     "output_type": "execute_result"
    }
   ],
   "source": [
    "list01"
   ]
  },
  {
   "cell_type": "code",
   "execution_count": 52,
   "id": "f4ad9ac8",
   "metadata": {},
   "outputs": [],
   "source": [
    "list01[2]='python'"
   ]
  },
  {
   "cell_type": "code",
   "execution_count": 53,
   "id": "96693c2c",
   "metadata": {},
   "outputs": [
    {
     "data": {
      "text/plain": [
       "[100, 200, 'python', 300, 400, 900, 500, 600, 900]"
      ]
     },
     "execution_count": 53,
     "metadata": {},
     "output_type": "execute_result"
    }
   ],
   "source": [
    "list01"
   ]
  },
  {
   "cell_type": "code",
   "execution_count": 54,
   "id": "076b35e4",
   "metadata": {},
   "outputs": [],
   "source": [
    "list01[-1]='java'"
   ]
  },
  {
   "cell_type": "code",
   "execution_count": 56,
   "id": "d44861c1",
   "metadata": {},
   "outputs": [],
   "source": [
    "list01[-4]='R'"
   ]
  },
  {
   "cell_type": "code",
   "execution_count": 57,
   "id": "422d3f94",
   "metadata": {},
   "outputs": [
    {
     "data": {
      "text/plain": [
       "[100, 200, 'python', 300, 400, 'R', 500, 600, 'java']"
      ]
     },
     "execution_count": 57,
     "metadata": {},
     "output_type": "execute_result"
    }
   ],
   "source": [
    "list01"
   ]
  },
  {
   "cell_type": "code",
   "execution_count": 59,
   "id": "ce95f620",
   "metadata": {},
   "outputs": [],
   "source": [
    "#list01[10]=1000"
   ]
  },
  {
   "cell_type": "markdown",
   "id": "78417e60",
   "metadata": {},
   "source": [
    "### Delete"
   ]
  },
  {
   "cell_type": "code",
   "execution_count": 60,
   "id": "b683b94f",
   "metadata": {},
   "outputs": [
    {
     "data": {
      "text/plain": [
       "[100, 200, 'python', 300, 400, 'R', 500, 600, 'java']"
      ]
     },
     "execution_count": 60,
     "metadata": {},
     "output_type": "execute_result"
    }
   ],
   "source": [
    "list01"
   ]
  },
  {
   "cell_type": "code",
   "execution_count": 61,
   "id": "00e2508e",
   "metadata": {},
   "outputs": [],
   "source": [
    "list01.remove('python')"
   ]
  },
  {
   "cell_type": "code",
   "execution_count": 64,
   "id": "417c46d5",
   "metadata": {},
   "outputs": [],
   "source": [
    "#list01.remove('python')"
   ]
  },
  {
   "cell_type": "code",
   "execution_count": 65,
   "id": "eb7b1706",
   "metadata": {},
   "outputs": [],
   "source": [
    "list1=[100, 200, 'python', 300, 'python',400, 'R', 'python',500,'python', 600, 'java']"
   ]
  },
  {
   "cell_type": "code",
   "execution_count": 66,
   "id": "cd5cdee1",
   "metadata": {},
   "outputs": [
    {
     "data": {
      "text/plain": [
       "[100,\n",
       " 200,\n",
       " 'python',\n",
       " 300,\n",
       " 'python',\n",
       " 400,\n",
       " 'R',\n",
       " 'python',\n",
       " 500,\n",
       " 'python',\n",
       " 600,\n",
       " 'java']"
      ]
     },
     "execution_count": 66,
     "metadata": {},
     "output_type": "execute_result"
    }
   ],
   "source": [
    "list1"
   ]
  },
  {
   "cell_type": "code",
   "execution_count": 73,
   "id": "ff8c9c93",
   "metadata": {},
   "outputs": [],
   "source": [
    "list1.remove('python')"
   ]
  },
  {
   "cell_type": "code",
   "execution_count": 74,
   "id": "ed8d8769",
   "metadata": {},
   "outputs": [
    {
     "data": {
      "text/plain": [
       "[100, 200, 300, 400, 'R', 500, 600, 'java']"
      ]
     },
     "execution_count": 74,
     "metadata": {},
     "output_type": "execute_result"
    }
   ],
   "source": [
    "list1"
   ]
  },
  {
   "cell_type": "markdown",
   "id": "ed05218c",
   "metadata": {},
   "source": [
    "### pop"
   ]
  },
  {
   "cell_type": "code",
   "execution_count": 75,
   "id": "67c0455a",
   "metadata": {},
   "outputs": [
    {
     "data": {
      "text/plain": [
       "[100, 200, 300, 400, 'R', 500, 600, 'java']"
      ]
     },
     "execution_count": 75,
     "metadata": {},
     "output_type": "execute_result"
    }
   ],
   "source": [
    "list1"
   ]
  },
  {
   "cell_type": "code",
   "execution_count": 78,
   "id": "320c707f",
   "metadata": {},
   "outputs": [
    {
     "data": {
      "text/plain": [
       "500"
      ]
     },
     "execution_count": 78,
     "metadata": {},
     "output_type": "execute_result"
    }
   ],
   "source": [
    "list1.pop()"
   ]
  },
  {
   "cell_type": "code",
   "execution_count": 79,
   "id": "5986a4f3",
   "metadata": {},
   "outputs": [
    {
     "data": {
      "text/plain": [
       "[100, 200, 300, 400, 'R']"
      ]
     },
     "execution_count": 79,
     "metadata": {},
     "output_type": "execute_result"
    }
   ],
   "source": [
    "list1"
   ]
  },
  {
   "cell_type": "code",
   "execution_count": 80,
   "id": "b74be54e",
   "metadata": {},
   "outputs": [
    {
     "data": {
      "text/plain": [
       "300"
      ]
     },
     "execution_count": 80,
     "metadata": {},
     "output_type": "execute_result"
    }
   ],
   "source": [
    "list1.pop(2)"
   ]
  },
  {
   "cell_type": "code",
   "execution_count": 82,
   "id": "b7627d82",
   "metadata": {},
   "outputs": [
    {
     "data": {
      "text/plain": [
       "[100, 200, 400, 'R']"
      ]
     },
     "execution_count": 82,
     "metadata": {},
     "output_type": "execute_result"
    }
   ],
   "source": [
    "list1"
   ]
  },
  {
   "cell_type": "markdown",
   "id": "349dfe68",
   "metadata": {},
   "source": [
    "### clear"
   ]
  },
  {
   "cell_type": "code",
   "execution_count": 83,
   "id": "f732599c",
   "metadata": {},
   "outputs": [
    {
     "data": {
      "text/plain": [
       "[100, 200, 400, 'R']"
      ]
     },
     "execution_count": 83,
     "metadata": {},
     "output_type": "execute_result"
    }
   ],
   "source": [
    "list1"
   ]
  },
  {
   "cell_type": "code",
   "execution_count": 84,
   "id": "b4debe45",
   "metadata": {},
   "outputs": [],
   "source": [
    "list1.clear()"
   ]
  },
  {
   "cell_type": "code",
   "execution_count": 85,
   "id": "f0cb2470",
   "metadata": {},
   "outputs": [
    {
     "data": {
      "text/plain": [
       "[]"
      ]
     },
     "execution_count": 85,
     "metadata": {},
     "output_type": "execute_result"
    }
   ],
   "source": [
    "list1"
   ]
  },
  {
   "cell_type": "code",
   "execution_count": 86,
   "id": "c028ae09",
   "metadata": {},
   "outputs": [],
   "source": [
    "del list1"
   ]
  },
  {
   "cell_type": "code",
   "execution_count": 87,
   "id": "668c5124",
   "metadata": {},
   "outputs": [
    {
     "ename": "NameError",
     "evalue": "name 'list1' is not defined",
     "output_type": "error",
     "traceback": [
      "\u001b[1;31m---------------------------------------------------------------------------\u001b[0m",
      "\u001b[1;31mNameError\u001b[0m                                 Traceback (most recent call last)",
      "Input \u001b[1;32mIn [87]\u001b[0m, in \u001b[0;36m<cell line: 1>\u001b[1;34m()\u001b[0m\n\u001b[1;32m----> 1\u001b[0m \u001b[43mlist1\u001b[49m\n",
      "\u001b[1;31mNameError\u001b[0m: name 'list1' is not defined"
     ]
    }
   ],
   "source": [
    "list1"
   ]
  },
  {
   "cell_type": "code",
   "execution_count": 7,
   "id": "9b79331a",
   "metadata": {},
   "outputs": [
    {
     "data": {
      "text/plain": [
       "{(1, 2, 3), 7, 8, 9}"
      ]
     },
     "execution_count": 7,
     "metadata": {},
     "output_type": "execute_result"
    }
   ],
   "source": [
    "dict1={1:2,2:4}\n",
    "list1=[1,2,3]\n",
    "tup1=tuple(list1)\n",
    "set1={7,8,9,tup1}\n",
    "set1"
   ]
  },
  {
   "cell_type": "code",
   "execution_count": null,
   "id": "50a6487a",
   "metadata": {},
   "outputs": [],
   "source": []
  }
 ],
 "metadata": {
  "kernelspec": {
   "display_name": "Python 3 (ipykernel)",
   "language": "python",
   "name": "python3"
  },
  "language_info": {
   "codemirror_mode": {
    "name": "ipython",
    "version": 3
   },
   "file_extension": ".py",
   "mimetype": "text/x-python",
   "name": "python",
   "nbconvert_exporter": "python",
   "pygments_lexer": "ipython3",
   "version": "3.9.12"
  }
 },
 "nbformat": 4,
 "nbformat_minor": 5
}
