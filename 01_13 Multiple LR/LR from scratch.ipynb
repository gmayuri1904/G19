{
 "cells": [
  {
   "cell_type": "code",
   "execution_count": 45,
   "id": "36dc31e2",
   "metadata": {},
   "outputs": [],
   "source": [
    "class LR:\n",
    "    \n",
    "    def __init__(self):\n",
    "        self.m=None\n",
    "        self.c=None\n",
    "    \n",
    "    def fit(self,X_train,y_train):\n",
    "        #num=sum(xi-x.mean)*(yi-ymean)\n",
    "        #den=sum(sum(xi-x.mean)**2)\n",
    "        #c=ymean -mxmean\n",
    "        \n",
    "        num=0\n",
    "        den=0\n",
    "        for i in range(X_train.shape[0]): #(1331,8)\n",
    "            num=num+(X_train[i]-X_train.mean())*(y_train[i]-y_train.mean())\n",
    "            den=den+(X_train[i]-X_train.mean())**2\n",
    "        \n",
    "        self.m=num/den\n",
    "        self.c= y_train.mean() - (self.m*X_train.mean())\n",
    "        \n",
    "        print('Slope is ',self.m)\n",
    "        print('Intercept is ',self.c)\n",
    "    \n",
    "    def predict(self,X_test):\n",
    "        return (self.m*X_test) + self.c"
   ]
  },
  {
   "cell_type": "code",
   "execution_count": 46,
   "id": "ac9dc981",
   "metadata": {},
   "outputs": [],
   "source": [
    "import pandas as pd\n",
    "import numpy as np\n",
    "from sklearn.model_selection import train_test_split"
   ]
  },
  {
   "cell_type": "code",
   "execution_count": 47,
   "id": "78b9f879",
   "metadata": {},
   "outputs": [],
   "source": [
    "df=pd.read_csv('score.csv')"
   ]
  },
  {
   "cell_type": "code",
   "execution_count": 48,
   "id": "02e53f6d",
   "metadata": {},
   "outputs": [
    {
     "data": {
      "text/html": [
       "<div>\n",
       "<style scoped>\n",
       "    .dataframe tbody tr th:only-of-type {\n",
       "        vertical-align: middle;\n",
       "    }\n",
       "\n",
       "    .dataframe tbody tr th {\n",
       "        vertical-align: top;\n",
       "    }\n",
       "\n",
       "    .dataframe thead th {\n",
       "        text-align: right;\n",
       "    }\n",
       "</style>\n",
       "<table border=\"1\" class=\"dataframe\">\n",
       "  <thead>\n",
       "    <tr style=\"text-align: right;\">\n",
       "      <th></th>\n",
       "      <th>Hours</th>\n",
       "      <th>Scores</th>\n",
       "    </tr>\n",
       "  </thead>\n",
       "  <tbody>\n",
       "    <tr>\n",
       "      <th>0</th>\n",
       "      <td>2.5</td>\n",
       "      <td>21</td>\n",
       "    </tr>\n",
       "    <tr>\n",
       "      <th>1</th>\n",
       "      <td>5.1</td>\n",
       "      <td>47</td>\n",
       "    </tr>\n",
       "    <tr>\n",
       "      <th>2</th>\n",
       "      <td>3.2</td>\n",
       "      <td>27</td>\n",
       "    </tr>\n",
       "    <tr>\n",
       "      <th>3</th>\n",
       "      <td>8.5</td>\n",
       "      <td>75</td>\n",
       "    </tr>\n",
       "    <tr>\n",
       "      <th>4</th>\n",
       "      <td>3.5</td>\n",
       "      <td>30</td>\n",
       "    </tr>\n",
       "  </tbody>\n",
       "</table>\n",
       "</div>"
      ],
      "text/plain": [
       "   Hours  Scores\n",
       "0    2.5      21\n",
       "1    5.1      47\n",
       "2    3.2      27\n",
       "3    8.5      75\n",
       "4    3.5      30"
      ]
     },
     "execution_count": 48,
     "metadata": {},
     "output_type": "execute_result"
    }
   ],
   "source": [
    "df.head()"
   ]
  },
  {
   "cell_type": "code",
   "execution_count": 49,
   "id": "d97104ee",
   "metadata": {},
   "outputs": [],
   "source": [
    "X=df.iloc[:,0].values.reshape(-1,1)\n",
    "y=df.iloc[:,1].values.reshape(-1,1)"
   ]
  },
  {
   "cell_type": "code",
   "execution_count": 50,
   "id": "80887b11",
   "metadata": {},
   "outputs": [
    {
     "data": {
      "text/plain": [
       "array([[21],\n",
       "       [47],\n",
       "       [27],\n",
       "       [75],\n",
       "       [30],\n",
       "       [20],\n",
       "       [88],\n",
       "       [60],\n",
       "       [81],\n",
       "       [25],\n",
       "       [85],\n",
       "       [62],\n",
       "       [41],\n",
       "       [42],\n",
       "       [17],\n",
       "       [95],\n",
       "       [30],\n",
       "       [24],\n",
       "       [67],\n",
       "       [69],\n",
       "       [30],\n",
       "       [54],\n",
       "       [35],\n",
       "       [76],\n",
       "       [86]], dtype=int64)"
      ]
     },
     "execution_count": 50,
     "metadata": {},
     "output_type": "execute_result"
    }
   ],
   "source": [
    "X\n",
    "y"
   ]
  },
  {
   "cell_type": "code",
   "execution_count": 51,
   "id": "632c1566",
   "metadata": {},
   "outputs": [],
   "source": [
    "X_train,X_test,y_train,y_text=train_test_split(X,y,test_size=0.2,random_state=1)"
   ]
  },
  {
   "cell_type": "code",
   "execution_count": 52,
   "id": "214eae5c",
   "metadata": {},
   "outputs": [],
   "source": [
    "lr=LR()"
   ]
  },
  {
   "cell_type": "code",
   "execution_count": 53,
   "id": "70ba6f89",
   "metadata": {},
   "outputs": [
    {
     "name": "stdout",
     "output_type": "stream",
     "text": [
      "Slope is  [10.46110829]\n",
      "Intercept is  [-1.53695733]\n"
     ]
    }
   ],
   "source": [
    "lr.fit(X_train,y_train)"
   ]
  },
  {
   "cell_type": "code",
   "execution_count": 54,
   "id": "68eaae89",
   "metadata": {},
   "outputs": [],
   "source": [
    "from sklearn.linear_model import LinearRegression"
   ]
  },
  {
   "cell_type": "code",
   "execution_count": 55,
   "id": "86e80180",
   "metadata": {},
   "outputs": [],
   "source": [
    "lr1=LinearRegression()"
   ]
  },
  {
   "cell_type": "code",
   "execution_count": 56,
   "id": "333e0a44",
   "metadata": {},
   "outputs": [
    {
     "data": {
      "text/plain": [
       "LinearRegression()"
      ]
     },
     "execution_count": 56,
     "metadata": {},
     "output_type": "execute_result"
    }
   ],
   "source": [
    "lr1.fit(X_train,y_train)"
   ]
  },
  {
   "cell_type": "code",
   "execution_count": 57,
   "id": "6840d72c",
   "metadata": {},
   "outputs": [
    {
     "name": "stdout",
     "output_type": "stream",
     "text": [
      "Slope from sklearn LR [[10.46110829]]\n",
      "Slope from our LR [10.46110829]\n",
      "Intercept from sklearn LR [-1.53695733]\n",
      "Intercept from our LR [-1.53695733]\n"
     ]
    }
   ],
   "source": [
    "print(\"Slope from sklearn LR\",lr1.coef_)\n",
    "print(\"Slope from our LR\",lr.m)\n",
    "print(\"Intercept from sklearn LR\",lr1.intercept_)\n",
    "print(\"Intercept from our LR\",lr.c)"
   ]
  },
  {
   "cell_type": "code",
   "execution_count": 58,
   "id": "5d9fab3a",
   "metadata": {},
   "outputs": [
    {
     "data": {
      "text/plain": [
       "array([24.6158134])"
      ]
     },
     "execution_count": 58,
     "metadata": {},
     "output_type": "execute_result"
    }
   ],
   "source": [
    "lr.predict([2.5])"
   ]
  },
  {
   "cell_type": "code",
   "execution_count": 59,
   "id": "85d75f06",
   "metadata": {},
   "outputs": [
    {
     "data": {
      "text/plain": [
       "array([[24.6158134]])"
      ]
     },
     "execution_count": 59,
     "metadata": {},
     "output_type": "execute_result"
    }
   ],
   "source": [
    "lr1.predict([[2.5]])"
   ]
  }
 ],
 "metadata": {
  "kernelspec": {
   "display_name": "Python 3 (ipykernel)",
   "language": "python",
   "name": "python3"
  },
  "language_info": {
   "codemirror_mode": {
    "name": "ipython",
    "version": 3
   },
   "file_extension": ".py",
   "mimetype": "text/x-python",
   "name": "python",
   "nbconvert_exporter": "python",
   "pygments_lexer": "ipython3",
   "version": "3.9.12"
  }
 },
 "nbformat": 4,
 "nbformat_minor": 5
}
