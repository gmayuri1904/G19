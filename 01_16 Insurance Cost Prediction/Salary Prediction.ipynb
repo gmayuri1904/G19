{
 "cells": [
  {
   "cell_type": "markdown",
   "id": "6e938455",
   "metadata": {},
   "source": [
    "## Code for pickle"
   ]
  },
  {
   "cell_type": "code",
   "execution_count": null,
   "id": "c57de64c",
   "metadata": {},
   "outputs": [],
   "source": [
    "#pickle dump >> to convert to pickle\n",
    "import pickle\n",
    "pickle.dump(model_name,open('New_name.pkl','rb'))\n",
    "\n",
    "#pickle load >> convert from pickle\n",
    "model_name=pickle.load('New_name.pkl','wb')"
   ]
  },
  {
   "cell_type": "markdown",
   "id": "d1517fba",
   "metadata": {},
   "source": [
    "## Code for Streamlit"
   ]
  },
  {
   "cell_type": "code",
   "execution_count": null,
   "id": "cae54385",
   "metadata": {},
   "outputs": [],
   "source": [
    "import pandas as pd\n",
    "import numpy as np\n",
    "import streamlit as st\n",
    "import pickle\n",
    "\n",
    "lr=pickle.load(open('Salary.pkl','rb'))\n",
    "\n",
    "st.title('Salary Prediction')\n",
    "years=st.number_input('Number of years',min_value=0.0,max_value=42.0,value=2.0,step=0.1)\n",
    "result=lr.predict([[years]])\n",
    "result=int(result)\n",
    "print_st='Expected Salary is '+str(result)\n",
    "st.success(print_st)"
   ]
  }
 ],
 "metadata": {
  "kernelspec": {
   "display_name": "Python 3 (ipykernel)",
   "language": "python",
   "name": "python3"
  },
  "language_info": {
   "codemirror_mode": {
    "name": "ipython",
    "version": 3
   },
   "file_extension": ".py",
   "mimetype": "text/x-python",
   "name": "python",
   "nbconvert_exporter": "python",
   "pygments_lexer": "ipython3",
   "version": "3.9.12"
  }
 },
 "nbformat": 4,
 "nbformat_minor": 5
}
