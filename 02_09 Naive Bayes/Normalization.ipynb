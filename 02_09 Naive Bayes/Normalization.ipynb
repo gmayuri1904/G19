{
 "cells": [
  {
   "cell_type": "code",
   "execution_count": 2,
   "id": "7516e0b8",
   "metadata": {},
   "outputs": [],
   "source": [
    "import numpy as np\n",
    "arr=np.array([15,20,22,18,17,15,12])"
   ]
  },
  {
   "cell_type": "code",
   "execution_count": 8,
   "id": "fa5ae75f",
   "metadata": {},
   "outputs": [],
   "source": [
    "meann=arr.mean()"
   ]
  },
  {
   "cell_type": "code",
   "execution_count": 7,
   "id": "64986121",
   "metadata": {},
   "outputs": [],
   "source": [
    "minn=arr.min()"
   ]
  },
  {
   "cell_type": "code",
   "execution_count": 6,
   "id": "66d81f3d",
   "metadata": {},
   "outputs": [],
   "source": [
    "maxx=arr.max()"
   ]
  },
  {
   "cell_type": "code",
   "execution_count": 9,
   "id": "c8a9aacb",
   "metadata": {},
   "outputs": [
    {
     "data": {
      "text/plain": [
       "array([-0.2,  0.3,  0.5,  0.1,  0. , -0.2, -0.5])"
      ]
     },
     "execution_count": 9,
     "metadata": {},
     "output_type": "execute_result"
    }
   ],
   "source": [
    "(arr-meann)/(maxx-minn)"
   ]
  },
  {
   "cell_type": "code",
   "execution_count": 11,
   "id": "ec0dd266",
   "metadata": {},
   "outputs": [
    {
     "data": {
      "text/plain": [
       "array([67, 37, 74, 64, 49, 70, 56, 48, 71, 73, 67, 51, 48, 63, 71])"
      ]
     },
     "execution_count": 11,
     "metadata": {},
     "output_type": "execute_result"
    }
   ],
   "source": [
    "np.random.randint(35,75,15)"
   ]
  },
  {
   "cell_type": "code",
   "execution_count": 24,
   "id": "4a09879b",
   "metadata": {},
   "outputs": [],
   "source": [
    "arr1=np.array([67, 37, 74, 64, 49, 70, 56, 48, 71, 73, 67, 51, 48, 63, 75])"
   ]
  },
  {
   "cell_type": "code",
   "execution_count": 25,
   "id": "00fc9d39",
   "metadata": {},
   "outputs": [],
   "source": [
    "#60 67"
   ]
  },
  {
   "cell_type": "code",
   "execution_count": 26,
   "id": "170146d9",
   "metadata": {},
   "outputs": [],
   "source": [
    "import statistics"
   ]
  },
  {
   "cell_type": "code",
   "execution_count": 27,
   "id": "a14ca4ea",
   "metadata": {},
   "outputs": [
    {
     "data": {
      "text/plain": [
       "64"
      ]
     },
     "execution_count": 27,
     "metadata": {},
     "output_type": "execute_result"
    }
   ],
   "source": [
    "statistics.median(arr1)"
   ]
  },
  {
   "cell_type": "code",
   "execution_count": 28,
   "id": "71e137a0",
   "metadata": {},
   "outputs": [],
   "source": [
    "import pandas as pd"
   ]
  },
  {
   "cell_type": "code",
   "execution_count": 29,
   "id": "f5078452",
   "metadata": {},
   "outputs": [],
   "source": [
    "data=pd.read_csv('ads.csv')"
   ]
  },
  {
   "cell_type": "code",
   "execution_count": 30,
   "id": "83bc6cf9",
   "metadata": {},
   "outputs": [
    {
     "data": {
      "text/html": [
       "<div>\n",
       "<style scoped>\n",
       "    .dataframe tbody tr th:only-of-type {\n",
       "        vertical-align: middle;\n",
       "    }\n",
       "\n",
       "    .dataframe tbody tr th {\n",
       "        vertical-align: top;\n",
       "    }\n",
       "\n",
       "    .dataframe thead th {\n",
       "        text-align: right;\n",
       "    }\n",
       "</style>\n",
       "<table border=\"1\" class=\"dataframe\">\n",
       "  <thead>\n",
       "    <tr style=\"text-align: right;\">\n",
       "      <th></th>\n",
       "      <th>Age</th>\n",
       "      <th>EstimatedSalary</th>\n",
       "      <th>Purchased</th>\n",
       "    </tr>\n",
       "  </thead>\n",
       "  <tbody>\n",
       "    <tr>\n",
       "      <th>count</th>\n",
       "      <td>400.000000</td>\n",
       "      <td>400.000000</td>\n",
       "      <td>400.000000</td>\n",
       "    </tr>\n",
       "    <tr>\n",
       "      <th>mean</th>\n",
       "      <td>37.655000</td>\n",
       "      <td>69742.500000</td>\n",
       "      <td>0.357500</td>\n",
       "    </tr>\n",
       "    <tr>\n",
       "      <th>std</th>\n",
       "      <td>10.482877</td>\n",
       "      <td>34096.960282</td>\n",
       "      <td>0.479864</td>\n",
       "    </tr>\n",
       "    <tr>\n",
       "      <th>min</th>\n",
       "      <td>18.000000</td>\n",
       "      <td>15000.000000</td>\n",
       "      <td>0.000000</td>\n",
       "    </tr>\n",
       "    <tr>\n",
       "      <th>25%</th>\n",
       "      <td>29.750000</td>\n",
       "      <td>43000.000000</td>\n",
       "      <td>0.000000</td>\n",
       "    </tr>\n",
       "    <tr>\n",
       "      <th>50%</th>\n",
       "      <td>37.000000</td>\n",
       "      <td>70000.000000</td>\n",
       "      <td>0.000000</td>\n",
       "    </tr>\n",
       "    <tr>\n",
       "      <th>75%</th>\n",
       "      <td>46.000000</td>\n",
       "      <td>88000.000000</td>\n",
       "      <td>1.000000</td>\n",
       "    </tr>\n",
       "    <tr>\n",
       "      <th>max</th>\n",
       "      <td>60.000000</td>\n",
       "      <td>150000.000000</td>\n",
       "      <td>1.000000</td>\n",
       "    </tr>\n",
       "  </tbody>\n",
       "</table>\n",
       "</div>"
      ],
      "text/plain": [
       "              Age  EstimatedSalary   Purchased\n",
       "count  400.000000       400.000000  400.000000\n",
       "mean    37.655000     69742.500000    0.357500\n",
       "std     10.482877     34096.960282    0.479864\n",
       "min     18.000000     15000.000000    0.000000\n",
       "25%     29.750000     43000.000000    0.000000\n",
       "50%     37.000000     70000.000000    0.000000\n",
       "75%     46.000000     88000.000000    1.000000\n",
       "max     60.000000    150000.000000    1.000000"
      ]
     },
     "execution_count": 30,
     "metadata": {},
     "output_type": "execute_result"
    }
   ],
   "source": [
    "data.describe()"
   ]
  },
  {
   "cell_type": "code",
   "execution_count": 31,
   "id": "1ba78134",
   "metadata": {},
   "outputs": [
    {
     "data": {
      "text/plain": [
       "0.2777777777777778"
      ]
     },
     "execution_count": 31,
     "metadata": {},
     "output_type": "execute_result"
    }
   ],
   "source": [
    "(5/9)*(4/8)"
   ]
  },
  {
   "cell_type": "code",
   "execution_count": 33,
   "id": "b14d8fae",
   "metadata": {},
   "outputs": [
    {
     "data": {
      "text/plain": [
       "0.2777777777777778"
      ]
     },
     "execution_count": 33,
     "metadata": {},
     "output_type": "execute_result"
    }
   ],
   "source": [
    "(4/9)*(5/8)"
   ]
  },
  {
   "cell_type": "code",
   "execution_count": 35,
   "id": "b6759a47",
   "metadata": {},
   "outputs": [],
   "source": [
    "sunny_yes=(9/14)*(2/9)"
   ]
  },
  {
   "cell_type": "code",
   "execution_count": 36,
   "id": "45aa5bd4",
   "metadata": {},
   "outputs": [],
   "source": [
    "sunny_no=(5/14)*(3/5)"
   ]
  },
  {
   "cell_type": "code",
   "execution_count": 37,
   "id": "415498da",
   "metadata": {},
   "outputs": [
    {
     "data": {
      "text/plain": [
       "0.21428571428571427"
      ]
     },
     "execution_count": 37,
     "metadata": {},
     "output_type": "execute_result"
    }
   ],
   "source": [
    "sunny_no"
   ]
  },
  {
   "cell_type": "code",
   "execution_count": 38,
   "id": "530d4cd6",
   "metadata": {},
   "outputs": [
    {
     "data": {
      "text/plain": [
       "0.14285714285714285"
      ]
     },
     "execution_count": 38,
     "metadata": {},
     "output_type": "execute_result"
    }
   ],
   "source": [
    "sunny_yes"
   ]
  },
  {
   "cell_type": "code",
   "execution_count": 39,
   "id": "5a5b8b81",
   "metadata": {},
   "outputs": [],
   "source": [
    "den=sunny_no+sunny_yes"
   ]
  },
  {
   "cell_type": "code",
   "execution_count": 40,
   "id": "ff0d87ee",
   "metadata": {},
   "outputs": [
    {
     "data": {
      "text/plain": [
       "0.4"
      ]
     },
     "execution_count": 40,
     "metadata": {},
     "output_type": "execute_result"
    }
   ],
   "source": [
    "sunny_yes/den"
   ]
  },
  {
   "cell_type": "code",
   "execution_count": 41,
   "id": "fa3644c9",
   "metadata": {},
   "outputs": [
    {
     "data": {
      "text/plain": [
       "0.6000000000000001"
      ]
     },
     "execution_count": 41,
     "metadata": {},
     "output_type": "execute_result"
    }
   ],
   "source": [
    "sunny_no/den"
   ]
  },
  {
   "cell_type": "code",
   "execution_count": null,
   "id": "dfc99470",
   "metadata": {},
   "outputs": [],
   "source": []
  }
 ],
 "metadata": {
  "kernelspec": {
   "display_name": "Python 3 (ipykernel)",
   "language": "python",
   "name": "python3"
  },
  "language_info": {
   "codemirror_mode": {
    "name": "ipython",
    "version": 3
   },
   "file_extension": ".py",
   "mimetype": "text/x-python",
   "name": "python",
   "nbconvert_exporter": "python",
   "pygments_lexer": "ipython3",
   "version": "3.9.12"
  }
 },
 "nbformat": 4,
 "nbformat_minor": 5
}
