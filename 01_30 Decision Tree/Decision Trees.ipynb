{
 "cells": [
  {
   "cell_type": "code",
   "execution_count": 1,
   "id": "39095420",
   "metadata": {},
   "outputs": [],
   "source": [
    "import math"
   ]
  },
  {
   "cell_type": "code",
   "execution_count": 5,
   "id": "79e05cd2",
   "metadata": {},
   "outputs": [
    {
     "data": {
      "text/plain": [
       "0.9709505944546686"
      ]
     },
     "execution_count": 5,
     "metadata": {},
     "output_type": "execute_result"
    }
   ],
   "source": [
    "-((3/5)*math.log2(3/5))-((2/5)*math.log2(2/5))"
   ]
  },
  {
   "cell_type": "code",
   "execution_count": 4,
   "id": "16917b09",
   "metadata": {},
   "outputs": [
    {
     "data": {
      "text/plain": [
       "-0.0"
      ]
     },
     "execution_count": 4,
     "metadata": {},
     "output_type": "execute_result"
    }
   ],
   "source": [
    "-math.log2(1)"
   ]
  },
  {
   "cell_type": "code",
   "execution_count": 6,
   "id": "6f9892e6",
   "metadata": {},
   "outputs": [
    {
     "data": {
      "text/plain": [
       "1.0"
      ]
     },
     "execution_count": 6,
     "metadata": {},
     "output_type": "execute_result"
    }
   ],
   "source": [
    "-((2/4)*math.log2(2/4))-((2/4)*math.log2(2/4))"
   ]
  },
  {
   "cell_type": "code",
   "execution_count": 7,
   "id": "e3ea538b",
   "metadata": {},
   "outputs": [
    {
     "data": {
      "text/plain": [
       "0.9709505944546686"
      ]
     },
     "execution_count": 7,
     "metadata": {},
     "output_type": "execute_result"
    }
   ],
   "source": [
    "-((2/5)*math.log2(2/5))-((3/5)*math.log2(3/5))"
   ]
  },
  {
   "cell_type": "code",
   "execution_count": 8,
   "id": "b47b53ad",
   "metadata": {},
   "outputs": [
    {
     "data": {
      "text/plain": [
       "0.9709505944546686"
      ]
     },
     "execution_count": 8,
     "metadata": {},
     "output_type": "execute_result"
    }
   ],
   "source": [
    "-((3/5)*math.log2(3/5))-((2/5)*math.log2(2/5))"
   ]
  },
  {
   "cell_type": "code",
   "execution_count": null,
   "id": "a7ad4f67",
   "metadata": {},
   "outputs": [],
   "source": []
  }
 ],
 "metadata": {
  "kernelspec": {
   "display_name": "Python 3 (ipykernel)",
   "language": "python",
   "name": "python3"
  },
  "language_info": {
   "codemirror_mode": {
    "name": "ipython",
    "version": 3
   },
   "file_extension": ".py",
   "mimetype": "text/x-python",
   "name": "python",
   "nbconvert_exporter": "python",
   "pygments_lexer": "ipython3",
   "version": "3.9.12"
  }
 },
 "nbformat": 4,
 "nbformat_minor": 5
}
