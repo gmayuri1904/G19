{
 "cells": [
  {
   "cell_type": "markdown",
   "id": "e2a7a1c6",
   "metadata": {},
   "source": [
    "## Data Science"
   ]
  },
  {
   "cell_type": "raw",
   "id": "a451047c",
   "metadata": {},
   "source": [
    "Extracting knowledge and insight from data using scientific methods"
   ]
  },
  {
   "cell_type": "code",
   "execution_count": null,
   "id": "1cb2ecc2",
   "metadata": {},
   "outputs": [],
   "source": [
    "-Data Visualisation\n",
    "-Statistics\n",
    "-ML\n",
    "-Natural Language Processing\n",
    "-Deep Learning"
   ]
  },
  {
   "cell_type": "code",
   "execution_count": null,
   "id": "2edacd1f",
   "metadata": {},
   "outputs": [],
   "source": [
    "Data:\n",
    "    structured > csv,excel\n",
    "    semistructured > json,html\n",
    "    unstructured > pdf, images, video, audio"
   ]
  },
  {
   "cell_type": "markdown",
   "id": "b45c34da",
   "metadata": {},
   "source": [
    "## Machine Learning"
   ]
  },
  {
   "cell_type": "raw",
   "id": "ceb95c52",
   "metadata": {},
   "source": [
    "ability of a machine to learn without explicit programming"
   ]
  },
  {
   "cell_type": "markdown",
   "id": "59f72577",
   "metadata": {},
   "source": [
    "Applications:\n",
    "1. Speech Recognisation\n",
    "2. Face/Object recognsation\n",
    "3. Fake news detection\n",
    "4. Self driving Cars\n",
    "5. Risk assesment\n",
    "6. Spam filtering\n",
    "7. Traffic Prediction\n",
    "8. Medical diagnosis\n",
    "9. Voice assistance\n",
    "10. Recommmendation\n",
    "11. Langauge Translation\n",
    "12. Chatbot\n",
    "13. Sentiment analysis"
   ]
  },
  {
   "cell_type": "code",
   "execution_count": null,
   "id": "7683f330",
   "metadata": {},
   "outputs": [],
   "source": [
    "X >> predictor/ independent variable / input variable\n",
    "y >> target/ dependent variable / output variable"
   ]
  }
 ],
 "metadata": {
  "kernelspec": {
   "display_name": "Python 3 (ipykernel)",
   "language": "python",
   "name": "python3"
  },
  "language_info": {
   "codemirror_mode": {
    "name": "ipython",
    "version": 3
   },
   "file_extension": ".py",
   "mimetype": "text/x-python",
   "name": "python",
   "nbconvert_exporter": "python",
   "pygments_lexer": "ipython3",
   "version": "3.9.12"
  }
 },
 "nbformat": 4,
 "nbformat_minor": 5
}
