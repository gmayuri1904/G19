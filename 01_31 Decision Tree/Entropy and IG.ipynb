{
 "cells": [
  {
   "cell_type": "code",
   "execution_count": 1,
   "id": "45cc2428",
   "metadata": {},
   "outputs": [],
   "source": [
    "import math"
   ]
  },
  {
   "cell_type": "code",
   "execution_count": 28,
   "id": "98c21d14",
   "metadata": {},
   "outputs": [],
   "source": [
    "e_sunny=-(2/5)*math.log2(2/5)-(3/5)*math.log2(3/5)\n",
    "e_rain=-(3/5)*math.log2(3/5)-(2/5)*math.log2(2/5)\n",
    "e_rain\n",
    "e_overcast=0"
   ]
  },
  {
   "cell_type": "code",
   "execution_count": 29,
   "id": "25fc1805",
   "metadata": {},
   "outputs": [],
   "source": [
    "e_outlook=-(9/14)*math.log2(9/14)-(5/14)*math.log2(5/14)"
   ]
  },
  {
   "cell_type": "code",
   "execution_count": 31,
   "id": "f431c5e0",
   "metadata": {},
   "outputs": [
    {
     "data": {
      "text/plain": [
       "0.24674981977443933"
      ]
     },
     "execution_count": 31,
     "metadata": {},
     "output_type": "execute_result"
    }
   ],
   "source": [
    "ig_outlook=e_outlook - ((5/14)*e_sunny + (4/14)*e_overcast + (5/14)*e_rain)\n",
    "ig_outlook"
   ]
  },
  {
   "cell_type": "code",
   "execution_count": 22,
   "id": "32d31384",
   "metadata": {},
   "outputs": [],
   "source": [
    "e_temp=-(9/14)*math.log2(9/14)-(5/14)*math.log2(5/14)"
   ]
  },
  {
   "cell_type": "code",
   "execution_count": 23,
   "id": "44dbf07a",
   "metadata": {},
   "outputs": [
    {
     "data": {
      "text/plain": [
       "0.9402859586706311"
      ]
     },
     "execution_count": 23,
     "metadata": {},
     "output_type": "execute_result"
    }
   ],
   "source": [
    "e_temp"
   ]
  },
  {
   "cell_type": "code",
   "execution_count": 24,
   "id": "a125ac51",
   "metadata": {},
   "outputs": [
    {
     "data": {
      "text/plain": [
       "0.9182958340544896"
      ]
     },
     "execution_count": 24,
     "metadata": {},
     "output_type": "execute_result"
    }
   ],
   "source": [
    "e_mild=-(4/6)*math.log2(4/6)-(2/6)*math.log2(2/6)\n",
    "e_mild"
   ]
  },
  {
   "cell_type": "code",
   "execution_count": 17,
   "id": "5a30b3ad",
   "metadata": {},
   "outputs": [],
   "source": [
    "e_hot=1"
   ]
  },
  {
   "cell_type": "code",
   "execution_count": 21,
   "id": "5eae8378",
   "metadata": {},
   "outputs": [
    {
     "data": {
      "text/plain": [
       "0.8112781244591328"
      ]
     },
     "execution_count": 21,
     "metadata": {},
     "output_type": "execute_result"
    }
   ],
   "source": [
    "e_cool=-(3/4)*math.log2(3/4)-(1/4)*math.log2(1/4)\n",
    "e_cool"
   ]
  },
  {
   "cell_type": "code",
   "execution_count": 27,
   "id": "e84d1ace",
   "metadata": {},
   "outputs": [
    {
     "data": {
      "text/plain": [
       "0.02922256565895487"
      ]
     },
     "execution_count": 27,
     "metadata": {},
     "output_type": "execute_result"
    }
   ],
   "source": [
    "e_temp - ((4/14)*e_hot + (6/14)*e_mild + (4/14)*e_cool)"
   ]
  },
  {
   "cell_type": "code",
   "execution_count": 32,
   "id": "e1fec130",
   "metadata": {},
   "outputs": [],
   "source": [
    "e_humidity=e_temp"
   ]
  },
  {
   "cell_type": "code",
   "execution_count": 33,
   "id": "3e50791b",
   "metadata": {},
   "outputs": [],
   "source": [
    "e_high=-(3/7)*math.log2(3/7) - (4/7)*math.log2(4/7)\n",
    "e_normal=-(6/7)*math.log2(6/7) - (1/7)*math.log2(1/7)"
   ]
  },
  {
   "cell_type": "code",
   "execution_count": 34,
   "id": "c7c19dba",
   "metadata": {},
   "outputs": [
    {
     "data": {
      "text/plain": [
       "0.15183550136234159"
      ]
     },
     "execution_count": 34,
     "metadata": {},
     "output_type": "execute_result"
    }
   ],
   "source": [
    "e_humidity - ((7/14)*e_high + (7/14)*e_normal)"
   ]
  },
  {
   "cell_type": "code",
   "execution_count": null,
   "id": "a6addf59",
   "metadata": {},
   "outputs": [],
   "source": []
  }
 ],
 "metadata": {
  "kernelspec": {
   "display_name": "Python 3 (ipykernel)",
   "language": "python",
   "name": "python3"
  },
  "language_info": {
   "codemirror_mode": {
    "name": "ipython",
    "version": 3
   },
   "file_extension": ".py",
   "mimetype": "text/x-python",
   "name": "python",
   "nbconvert_exporter": "python",
   "pygments_lexer": "ipython3",
   "version": "3.9.12"
  }
 },
 "nbformat": 4,
 "nbformat_minor": 5
}
