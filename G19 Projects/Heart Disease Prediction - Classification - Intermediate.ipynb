{
 "cells": [
  {
   "cell_type": "markdown",
   "id": "9de87662",
   "metadata": {},
   "source": [
    "##  1. Problem Statement"
   ]
  },
  {
   "cell_type": "raw",
   "id": "302930fc",
   "metadata": {},
   "source": [
    "This data set consists of 14 attributes including target. The \"target\" field refers to the  presence of heart disease in the patient. It is integer valued 0 = no disease and 1 = disease.\n",
    "\n",
    "Attribute Description:\n",
    "1. age\n",
    "2. sex\n",
    "3. chest pain type (4 values)\n",
    "4. resting blood pressure\n",
    "5. serum cholestoral in mg/dl\n",
    "6. fasting blood sugar > 120 mg/dl\n",
    "7. resting electrocardiographic results (values 0,1,2)\n",
    "8. maximum heart rate achieved\n",
    "9. exercise induced angina\n",
    "10. oldpeak = ST depression induced by exercise relative to rest\n",
    "11. the slope of the peak exercise ST segment\n",
    "12. number of major vessels (0-3) colored by flourosopy\n",
    "13. thal: 0 = normal; 1 = fixed defect; 2 = reversable defect"
   ]
  },
  {
   "cell_type": "markdown",
   "id": "f510728a",
   "metadata": {},
   "source": [
    "## 2. Data Gathering"
   ]
  },
  {
   "cell_type": "raw",
   "id": "da51264a",
   "metadata": {},
   "source": [
    "You can find the data here : https://www.kaggle.com/datasets/johnsmith88/heart-disease-dataset\n",
    "\n",
    "A reference tutorial can be found here :\n",
    "https://www.analyticsvidhya.com/blog/2022/02/heart-disease-prediction-using-machine-learning-2/"
   ]
  },
  {
   "cell_type": "markdown",
   "id": "bcd5b6d0",
   "metadata": {},
   "source": [
    "### Import Dependencies/ Packages here"
   ]
  },
  {
   "cell_type": "code",
   "execution_count": null,
   "id": "ff3ff5a4",
   "metadata": {},
   "outputs": [],
   "source": []
  },
  {
   "cell_type": "markdown",
   "id": "e226ef2c",
   "metadata": {},
   "source": [
    "### Load Dataset"
   ]
  },
  {
   "cell_type": "code",
   "execution_count": null,
   "id": "150bf09b",
   "metadata": {},
   "outputs": [],
   "source": []
  },
  {
   "cell_type": "markdown",
   "id": "1cf10dd1",
   "metadata": {},
   "source": [
    "## 3. Data Preprocessing"
   ]
  },
  {
   "cell_type": "markdown",
   "id": "5173d5d7",
   "metadata": {},
   "source": [
    "### Find the shape, samples, information and description of the dataset."
   ]
  },
  {
   "cell_type": "raw",
   "id": "1d8b90fc",
   "metadata": {},
   "source": [
    "You can rename columns if necessary, remove any unnecessary features. Clean the data if any inconsistencies found."
   ]
  },
  {
   "cell_type": "code",
   "execution_count": null,
   "id": "6d10c0f0",
   "metadata": {},
   "outputs": [],
   "source": []
  },
  {
   "cell_type": "code",
   "execution_count": null,
   "id": "c2349cf0",
   "metadata": {},
   "outputs": [],
   "source": []
  },
  {
   "cell_type": "markdown",
   "id": "35d0f671",
   "metadata": {},
   "source": [
    "### Check for null values and handle them accordingly"
   ]
  },
  {
   "cell_type": "code",
   "execution_count": null,
   "id": "2ff23409",
   "metadata": {},
   "outputs": [],
   "source": []
  },
  {
   "cell_type": "markdown",
   "id": "bcc4057f",
   "metadata": {},
   "source": [
    "## 4. EDA"
   ]
  },
  {
   "cell_type": "markdown",
   "id": "5b12885d",
   "metadata": {},
   "source": [
    "### Analyze each feature and note your findings."
   ]
  },
  {
   "cell_type": "markdown",
   "id": "10a94b00",
   "metadata": {},
   "source": [
    "#### Univariate Analysis"
   ]
  },
  {
   "cell_type": "raw",
   "id": "0b34a640",
   "metadata": {},
   "source": [
    "You can use histogram and boxplot for numeric data, countplot for categorical data."
   ]
  },
  {
   "cell_type": "code",
   "execution_count": null,
   "id": "3de6fa22",
   "metadata": {},
   "outputs": [],
   "source": []
  },
  {
   "cell_type": "code",
   "execution_count": null,
   "id": "0510975f",
   "metadata": {},
   "outputs": [],
   "source": []
  },
  {
   "cell_type": "markdown",
   "id": "faa54a2c",
   "metadata": {},
   "source": [
    "#### Bivariate Analysis"
   ]
  },
  {
   "cell_type": "raw",
   "id": "906bb9e6",
   "metadata": {},
   "source": [
    "Analyse how each feature is related to the target, record your findings"
   ]
  },
  {
   "cell_type": "code",
   "execution_count": null,
   "id": "83139bb9",
   "metadata": {},
   "outputs": [],
   "source": []
  },
  {
   "cell_type": "code",
   "execution_count": null,
   "id": "44a88f5f",
   "metadata": {},
   "outputs": [],
   "source": []
  },
  {
   "cell_type": "markdown",
   "id": "58acd426",
   "metadata": {},
   "source": [
    "## 5. Feature Engineering"
   ]
  },
  {
   "cell_type": "markdown",
   "id": "60cdc43e",
   "metadata": {},
   "source": [
    "### Encode Categorical Values"
   ]
  },
  {
   "cell_type": "code",
   "execution_count": null,
   "id": "192a7519",
   "metadata": {},
   "outputs": [],
   "source": []
  },
  {
   "cell_type": "code",
   "execution_count": null,
   "id": "6a4c3a6b",
   "metadata": {},
   "outputs": [],
   "source": []
  },
  {
   "cell_type": "markdown",
   "id": "158eb058",
   "metadata": {},
   "source": [
    "## 6. Feature Selection"
   ]
  },
  {
   "cell_type": "markdown",
   "id": "894f6bc3",
   "metadata": {},
   "source": [
    "### Seperate the features from the target"
   ]
  },
  {
   "cell_type": "code",
   "execution_count": null,
   "id": "866f1b0a",
   "metadata": {},
   "outputs": [],
   "source": []
  },
  {
   "cell_type": "code",
   "execution_count": null,
   "id": "239eec0b",
   "metadata": {},
   "outputs": [],
   "source": []
  },
  {
   "cell_type": "markdown",
   "id": "d45c5aab",
   "metadata": {},
   "source": [
    "### Split data into train and test"
   ]
  },
  {
   "cell_type": "code",
   "execution_count": null,
   "id": "bad31336",
   "metadata": {},
   "outputs": [],
   "source": []
  },
  {
   "cell_type": "code",
   "execution_count": null,
   "id": "90fbd38d",
   "metadata": {},
   "outputs": [],
   "source": []
  },
  {
   "cell_type": "code",
   "execution_count": null,
   "id": "1f06861b",
   "metadata": {},
   "outputs": [],
   "source": []
  },
  {
   "cell_type": "markdown",
   "id": "23835220",
   "metadata": {},
   "source": [
    "### Transform the data using appropraite data transformation technique"
   ]
  },
  {
   "cell_type": "code",
   "execution_count": null,
   "id": "d942b5e7",
   "metadata": {},
   "outputs": [],
   "source": []
  },
  {
   "cell_type": "code",
   "execution_count": null,
   "id": "1ea209c2",
   "metadata": {},
   "outputs": [],
   "source": []
  },
  {
   "cell_type": "markdown",
   "id": "6945eec4",
   "metadata": {},
   "source": [
    "## 7. Model Building and Evaluation"
   ]
  },
  {
   "cell_type": "markdown",
   "id": "f82ec5a0",
   "metadata": {},
   "source": [
    "### Train the data different models and evaluate the performance, use k fold validation"
   ]
  },
  {
   "cell_type": "raw",
   "id": "cefd1b61",
   "metadata": {},
   "source": [
    "You can write your own function to automate the training process for each model"
   ]
  },
  {
   "cell_type": "code",
   "execution_count": null,
   "id": "54c05705",
   "metadata": {},
   "outputs": [],
   "source": []
  },
  {
   "cell_type": "code",
   "execution_count": null,
   "id": "90784b8f",
   "metadata": {},
   "outputs": [],
   "source": []
  },
  {
   "cell_type": "code",
   "execution_count": null,
   "id": "c9b7843f",
   "metadata": {},
   "outputs": [],
   "source": []
  },
  {
   "cell_type": "markdown",
   "id": "370bc31a",
   "metadata": {},
   "source": [
    "### Hyperparameter tune your model to enhance performance"
   ]
  },
  {
   "cell_type": "raw",
   "id": "1fa6d8c4",
   "metadata": {},
   "source": [
    "You can use grid search or randomized CV"
   ]
  },
  {
   "cell_type": "code",
   "execution_count": null,
   "id": "b58f99c2",
   "metadata": {},
   "outputs": [],
   "source": []
  },
  {
   "cell_type": "code",
   "execution_count": null,
   "id": "a42621bc",
   "metadata": {},
   "outputs": [],
   "source": []
  },
  {
   "cell_type": "markdown",
   "id": "eb32e493",
   "metadata": {},
   "source": [
    "## 8. Deployment / Saving the Model"
   ]
  },
  {
   "cell_type": "markdown",
   "id": "e4053f9f",
   "metadata": {},
   "source": [
    "### Save your model as pickle/joblib file for deployment"
   ]
  },
  {
   "cell_type": "code",
   "execution_count": null,
   "id": "6ae65708",
   "metadata": {},
   "outputs": [],
   "source": []
  },
  {
   "cell_type": "code",
   "execution_count": null,
   "id": "ba3d631b",
   "metadata": {},
   "outputs": [],
   "source": []
  },
  {
   "cell_type": "code",
   "execution_count": null,
   "id": "4c601729",
   "metadata": {},
   "outputs": [],
   "source": []
  }
 ],
 "metadata": {
  "kernelspec": {
   "display_name": "Python 3 (ipykernel)",
   "language": "python",
   "name": "python3"
  },
  "language_info": {
   "codemirror_mode": {
    "name": "ipython",
    "version": 3
   },
   "file_extension": ".py",
   "mimetype": "text/x-python",
   "name": "python",
   "nbconvert_exporter": "python",
   "pygments_lexer": "ipython3",
   "version": "3.9.12"
  }
 },
 "nbformat": 4,
 "nbformat_minor": 5
}
